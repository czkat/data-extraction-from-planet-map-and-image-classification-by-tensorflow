{
 "cells": [
  {
   "cell_type": "code",
   "execution_count": 9,
   "id": "651a9c8a",
   "metadata": {},
   "outputs": [],
   "source": [
    "#Classification of Satellite Images by Tensorflow\n",
    "#note that "
   ]
  },
  {
   "cell_type": "code",
   "execution_count": 10,
   "id": "4b0f9c24",
   "metadata": {},
   "outputs": [],
   "source": [
    "import matplotlib.pyplot as plt\n",
    "import numpy as np\n",
    "import os\n",
    "import PIL\n",
    "import tensorflow as tf\n",
    "\n",
    "from tensorflow import keras\n",
    "from tensorflow.keras import layers\n",
    "from tensorflow.keras.models import Sequential\n",
    "\n",
    "import tensorflow_datasets as tfds"
   ]
  },
  {
   "cell_type": "code",
   "execution_count": 11,
   "id": "4d4e2b63",
   "metadata": {},
   "outputs": [],
   "source": [
    "# import from local directory\n",
    "data_dir = '/home/zheng/Desktop/seminar/image classification/cut_sub/'"
   ]
  },
  {
   "cell_type": "code",
   "execution_count": 12,
   "id": "c73fcd16",
   "metadata": {},
   "outputs": [
    {
     "name": "stdout",
     "output_type": "stream",
     "text": [
      "Found 1000 files belonging to 4 classes.\n",
      "Using 800 files for training.\n",
      "Found 1000 files belonging to 4 classes.\n",
      "Using 200 files for validation.\n",
      "['cloud', 'developed', 'green', 'water']\n"
     ]
    }
   ],
   "source": [
    "# create dataset\n",
    "batch_size = 50\n",
    "img_height = 64\n",
    "img_width = 64\n",
    "\n",
    "# create training set\n",
    "train_ds = tf.keras.preprocessing.image_dataset_from_directory(\n",
    "  data_dir,\n",
    "  validation_split=0.2,\n",
    "  subset=\"training\",\n",
    "  seed=123,\n",
    "  image_size=(img_height, img_width),\n",
    "  batch_size=batch_size)\n",
    "\n",
    "# create validation set\n",
    "val_ds = tf.keras.preprocessing.image_dataset_from_directory(\n",
    "  data_dir,\n",
    "  validation_split=0.2,\n",
    "  subset=\"validation\",\n",
    "  seed=123,\n",
    "  image_size=(img_height, img_width),\n",
    "  batch_size=batch_size)# save to geotiff\n",
    "\n",
    "# check class names\n",
    "class_names = train_ds.class_names\n",
    "print(class_names)"
   ]
  },
  {
   "cell_type": "code",
   "execution_count": 13,
   "id": "45bd1dcf",
   "metadata": {},
   "outputs": [],
   "source": [
    "# rescale image to 0-1\n",
    "normalization_layer = tf.keras.layers.experimental.preprocessing.Rescaling(1./255)\n",
    "\n",
    "# optimize for performance\n",
    "AUTOTUNE = tf.data.AUTOTUNE\n",
    "\n",
    "train_ds = train_ds.cache().prefetch(buffer_size=AUTOTUNE)\n",
    "val_ds = val_ds.cache().prefetch(buffer_size=AUTOTUNE)"
   ]
  },
  {
   "cell_type": "code",
   "execution_count": 14,
   "id": "f73034f8",
   "metadata": {},
   "outputs": [
    {
     "name": "stdout",
     "output_type": "stream",
     "text": [
      "Epoch 1/16\n",
      "16/16 [==============================] - 3s 100ms/step - loss: 1.2235 - accuracy: 0.2862 - val_loss: 0.9816 - val_accuracy: 0.5850\n",
      "Epoch 2/16\n",
      "16/16 [==============================] - 1s 83ms/step - loss: 0.8526 - accuracy: 0.7125 - val_loss: 0.5801 - val_accuracy: 0.8350\n",
      "Epoch 3/16\n",
      "16/16 [==============================] - 1s 83ms/step - loss: 0.3486 - accuracy: 0.9125 - val_loss: 0.1877 - val_accuracy: 0.9550\n",
      "Epoch 4/16\n",
      "16/16 [==============================] - 1s 73ms/step - loss: 0.1469 - accuracy: 0.9438 - val_loss: 0.1678 - val_accuracy: 0.9700\n",
      "Epoch 5/16\n",
      "16/16 [==============================] - 1s 73ms/step - loss: 0.1817 - accuracy: 0.9362 - val_loss: 0.2569 - val_accuracy: 0.9350\n",
      "Epoch 6/16\n",
      "16/16 [==============================] - 1s 74ms/step - loss: 0.1694 - accuracy: 0.9413 - val_loss: 0.1331 - val_accuracy: 0.9800\n",
      "Epoch 7/16\n",
      "16/16 [==============================] - 1s 72ms/step - loss: 0.1096 - accuracy: 0.9688 - val_loss: 0.1563 - val_accuracy: 0.9500\n",
      "Epoch 8/16\n",
      "16/16 [==============================] - 1s 74ms/step - loss: 0.1307 - accuracy: 0.9550 - val_loss: 0.2420 - val_accuracy: 0.8950\n",
      "Epoch 9/16\n",
      "16/16 [==============================] - 1s 73ms/step - loss: 0.1086 - accuracy: 0.9563 - val_loss: 0.1664 - val_accuracy: 0.9400\n",
      "Epoch 10/16\n",
      "16/16 [==============================] - 1s 72ms/step - loss: 0.1217 - accuracy: 0.9563 - val_loss: 0.2142 - val_accuracy: 0.9200\n",
      "Epoch 11/16\n",
      "16/16 [==============================] - 1s 73ms/step - loss: 0.1590 - accuracy: 0.9362 - val_loss: 0.2186 - val_accuracy: 0.9200\n",
      "Epoch 12/16\n",
      "16/16 [==============================] - 1s 72ms/step - loss: 0.1626 - accuracy: 0.9400 - val_loss: 0.0546 - val_accuracy: 0.9900\n",
      "Epoch 13/16\n",
      "16/16 [==============================] - 1s 74ms/step - loss: 0.0802 - accuracy: 0.9775 - val_loss: 0.0340 - val_accuracy: 1.0000\n",
      "Epoch 14/16\n",
      "16/16 [==============================] - 1s 80ms/step - loss: 0.0584 - accuracy: 0.9787 - val_loss: 0.0267 - val_accuracy: 0.9950\n",
      "Epoch 15/16\n",
      "16/16 [==============================] - 1s 81ms/step - loss: 0.0496 - accuracy: 0.9862 - val_loss: 0.0237 - val_accuracy: 0.9950\n",
      "Epoch 16/16\n",
      "16/16 [==============================] - 1s 77ms/step - loss: 0.0478 - accuracy: 0.9850 - val_loss: 0.0250 - val_accuracy: 0.9950\n"
     ]
    },
    {
     "data": {
      "text/plain": [
       "<tensorflow.python.keras.callbacks.History at 0x7f2e94086c90>"
      ]
     },
     "execution_count": 14,
     "metadata": {},
     "output_type": "execute_result"
    }
   ],
   "source": [
    "# train\n",
    "num_classes = 4\n",
    "\n",
    "model = tf.keras.Sequential([\n",
    "  layers.experimental.preprocessing.Rescaling(1./255),\n",
    "  layers.Conv2D(32, 3, activation='relu'),\n",
    "  layers.MaxPooling2D(),\n",
    "  layers.Conv2D(32, 3, activation='relu'),\n",
    "  layers.MaxPooling2D(),\n",
    "  layers.Conv2D(32, 3, activation='relu'),\n",
    "  layers.MaxPooling2D(),\n",
    "  layers.Flatten(),\n",
    "  layers.Dense(128, activation='relu'),\n",
    "  layers.Dense(num_classes)\n",
    "])\n",
    "\n",
    "model.compile(\n",
    "  optimizer='adam',\n",
    "  loss=tf.losses.SparseCategoricalCrossentropy(from_logits=True),\n",
    "  metrics=['accuracy'])\n",
    "\n",
    "model.fit(\n",
    "  train_ds,\n",
    "  validation_data=val_ds,\n",
    "  epochs=16\n",
    ")"
   ]
  },
  {
   "cell_type": "code",
   "execution_count": 15,
   "id": "0da7299a",
   "metadata": {},
   "outputs": [
    {
     "name": "stdout",
     "output_type": "stream",
     "text": [
      "Model: \"sequential\"\n",
      "_________________________________________________________________\n",
      "Layer (type)                 Output Shape              Param #   \n",
      "=================================================================\n",
      "rescaling_1 (Rescaling)      (None, 64, 64, 3)         0         \n",
      "_________________________________________________________________\n",
      "conv2d (Conv2D)              (None, 62, 62, 32)        896       \n",
      "_________________________________________________________________\n",
      "max_pooling2d (MaxPooling2D) (None, 31, 31, 32)        0         \n",
      "_________________________________________________________________\n",
      "conv2d_1 (Conv2D)            (None, 29, 29, 32)        9248      \n",
      "_________________________________________________________________\n",
      "max_pooling2d_1 (MaxPooling2 (None, 14, 14, 32)        0         \n",
      "_________________________________________________________________\n",
      "conv2d_2 (Conv2D)            (None, 12, 12, 32)        9248      \n",
      "_________________________________________________________________\n",
      "max_pooling2d_2 (MaxPooling2 (None, 6, 6, 32)          0         \n",
      "_________________________________________________________________\n",
      "flatten (Flatten)            (None, 1152)              0         \n",
      "_________________________________________________________________\n",
      "dense (Dense)                (None, 128)               147584    \n",
      "_________________________________________________________________\n",
      "dense_1 (Dense)              (None, 4)                 516       \n",
      "=================================================================\n",
      "Total params: 167,492\n",
      "Trainable params: 167,492\n",
      "Non-trainable params: 0\n",
      "_________________________________________________________________\n"
     ]
    }
   ],
   "source": [
    "model.summary()"
   ]
  }
 ],
 "metadata": {
  "kernelspec": {
   "display_name": "Python 3",
   "language": "python",
   "name": "python3"
  },
  "language_info": {
   "codemirror_mode": {
    "name": "ipython",
    "version": 3
   },
   "file_extension": ".py",
   "mimetype": "text/x-python",
   "name": "python",
   "nbconvert_exporter": "python",
   "pygments_lexer": "ipython3",
   "version": "3.7.10"
  }
 },
 "nbformat": 4,
 "nbformat_minor": 5
}
