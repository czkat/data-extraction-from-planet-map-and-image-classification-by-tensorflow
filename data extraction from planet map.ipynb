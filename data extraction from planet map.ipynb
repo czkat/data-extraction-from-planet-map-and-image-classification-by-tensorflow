{
 "cells": [
  {
   "cell_type": "code",
   "execution_count": 4,
   "metadata": {
    "scrolled": true
   },
   "outputs": [],
   "source": [
    "import urllib.request\n",
    "import os\n",
    "import matplotlib.pyplot as plt\n",
    "import matplotlib.image as mpimg\n",
    "import numpy as np\n",
    "\n",
    "x_axis_0 = 12912\n",
    "y_axis_0 = 8133\n",
    "\n",
    "# download data and save coordinates\n",
    "window = 20\n",
    "coord = np.array([[0,0]])\n",
    "\n",
    "for x_axis in range(x_axis_0 - window,x_axis_0 + window): \n",
    "    for y_axis in range(y_axis_0 - window,y_axis_0 + window):        \n",
    "        urllib.request.urlretrieve(\"https://tiles1.planet.com/data/v1/PSScene4Band/20210322_033122_90_2401/14/\" + str(x_axis) + \"/\" + str(y_axis)+\".png?api_key=f6ae3ab60da64ad6ac1028044a413d44\",\"x=\"+str(x_axis)+\"_y=\"+str(y_axis)+\".png\")\n",
    "        filesize = os.path.getsize(\"x=\"+str(x_axis)+\"_y=\"+str(y_axis)+\".png\")            \n",
    "        if filesize < 830: # void image size is 820b\n",
    "            os.remove(\"x=\"+str(x_axis)+\"_y=\"+str(y_axis)+\".png\")\n",
    "        else:\n",
    "            coord = np.append(coord,[[x_axis,y_axis]],axis = 0)"
   ]
  },
  {
   "cell_type": "code",
   "execution_count": 35,
   "metadata": {
    "scrolled": false
   },
   "outputs": [],
   "source": [
    "import PIL, os, glob\n",
    "import matplotlib.pyplot as plt\n",
    "import matplotlib.image as mpimg\n",
    "from PIL import Image\n",
    "import io\n",
    "from natsort import natsorted\n",
    "\n",
    "# create blank images\n",
    "PATH = r\"/home/zheng/Desktop/crisp/\"\n",
    "os.chdir(PATH)\n",
    "for i in range(12898,12915):\n",
    "    for j in range(8124,8136):\n",
    "        filename = 'x='+str(i)+'_y='+str(j)+'.png'\n",
    "        try: \n",
    "            img  = Image.open(filename) \n",
    "        except IOError:\n",
    "            img = Image.new('RGBA', (256, 256))\n",
    "            img.save('x='+str(i)+'_y='+str(j)+'.png', \"PNG\")\n",
    "            \n",
    "# read image\n",
    "images = glob.glob(\"*.png\")\n",
    "images = images[:] \n",
    "images = natsorted(images)\n",
    "\n",
    "# canvas\n",
    "new_im = Image.new('RGBA', (17*256,12*256))\n",
    "\n",
    "# place image mosaic\n",
    "col = 11\n",
    "for i in range(0,12*256,256):\n",
    "    for j in range(0,17*256,256):\n",
    "        y = int(i/256)\n",
    "        x = int(j/256)\n",
    "        filename = 'x='+str(x+12898)+'_y='+str(y+8124)+'.png'\n",
    "        im_temp = Image.open(filename)\n",
    "        new_im.paste(im_temp, box = (j,i),mask = None)\n",
    "       \n",
    "new_im.save(r'mosaic1.png')\n",
    "\n"
   ]
  }
 ],
 "metadata": {
  "kernelspec": {
   "display_name": "Python 3",
   "language": "python",
   "name": "python3"
  },
  "language_info": {
   "codemirror_mode": {
    "name": "ipython",
    "version": 3
   },
   "file_extension": ".py",
   "mimetype": "text/x-python",
   "name": "python",
   "nbconvert_exporter": "python",
   "pygments_lexer": "ipython3",
   "version": "3.7.10"
  }
 },
 "nbformat": 4,
 "nbformat_minor": 4
}
